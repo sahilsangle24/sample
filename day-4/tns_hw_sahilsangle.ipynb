{
 "cells": [
  {
   "cell_type": "markdown",
   "id": "e6651ce8",
   "metadata": {},
   "source": [
    " 1.Write a program to find the difference between the maximum and minimum elements in \n",
    "a list."
   ]
  },
  {
   "cell_type": "code",
   "execution_count": 25,
   "id": "a3da908a",
   "metadata": {},
   "outputs": [
    {
     "name": "stdout",
     "output_type": "stream",
     "text": [
      "7\n"
     ]
    }
   ],
   "source": [
    "list=[2,3,4,5,6,7,8,9]\n",
    "result1=max(list)\n",
    "result2=min(list)\n",
    "diff=result1-result2\n",
    "print(diff)\n"
   ]
  },
  {
   "cell_type": "markdown",
   "id": "dc968733",
   "metadata": {},
   "source": [
    "2. Write a program to remove all elements at odd indices from a list."
   ]
  },
  {
   "cell_type": "code",
   "execution_count": 26,
   "id": "786c4971",
   "metadata": {},
   "outputs": [
    {
     "name": "stdout",
     "output_type": "stream",
     "text": [
      "[4, 6, 8]\n"
     ]
    }
   ],
   "source": [
    "list=[3,4,5,6,7,8,9]\n",
    "new_list=[]\n",
    "for i in list:\n",
    " if i%2==0:\n",
    "     new_list.append(i)\n",
    "print((new_list))"
   ]
  },
  {
   "cell_type": "markdown",
   "id": "8e73fa9f",
   "metadata": {},
   "source": [
    "3. Write a program that takes a list of integers and prints only the elements that appear \n",
    "exactly once."
   ]
  },
  {
   "cell_type": "code",
   "execution_count": 27,
   "id": "a0ba3b6d",
   "metadata": {},
   "outputs": [
    {
     "name": "stdout",
     "output_type": "stream",
     "text": [
      "40\n",
      "50\n",
      "60\n",
      "85\n",
      "90\n"
     ]
    }
   ],
   "source": [
    "\n",
    "numbers = [30, 40, 50, 30, 60, 70, 85, 70, 90]\n",
    "\n",
    "for num in numbers:\n",
    " if numbers.count(num) == 1:\n",
    "  print(num)\n"
   ]
  }
 ],
 "metadata": {
  "kernelspec": {
   "display_name": "Python 3",
   "language": "python",
   "name": "python3"
  },
  "language_info": {
   "codemirror_mode": {
    "name": "ipython",
    "version": 3
   },
   "file_extension": ".py",
   "mimetype": "text/x-python",
   "name": "python",
   "nbconvert_exporter": "python",
   "pygments_lexer": "ipython3",
   "version": "3.12.1"
  }
 },
 "nbformat": 4,
 "nbformat_minor": 5
}
