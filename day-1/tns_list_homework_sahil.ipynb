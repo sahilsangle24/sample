{
 "cells": [
  {
   "cell_type": "code",
   "execution_count": null,
   "id": "46a0a99b",
   "metadata": {},
   "outputs": [],
   "source": []
  },
  {
   "cell_type": "markdown",
   "id": "f8f63e23",
   "metadata": {},
   "source": [
    "Day 1 – Python Basics: Variables, Input/Output, Operators "
   ]
  },
  {
   "cell_type": "markdown",
   "id": "c22fae0e",
   "metadata": {},
   "source": [
    "1. Write a program that takes the radius as input and calculates the area and \n",
    "circumference of a circle."
   ]
  },
  {
   "cell_type": "code",
   "execution_count": 2,
   "id": "1a8cae3d",
   "metadata": {},
   "outputs": [
    {
     "name": "stdout",
     "output_type": "stream",
     "text": [
      "78.5\n",
      "31.400000000000002\n"
     ]
    }
   ],
   "source": [
    "r=5\n",
    "pi=3.14\n",
    "area=pi*r*r\n",
    "circumference=2*pi*r\n",
    "print(area)\n",
    "print(circumference)\n"
   ]
  },
  {
   "cell_type": "markdown",
   "id": "cfada8cb",
   "metadata": {},
   "source": [
    "2. Write a program to check if a number is divisible by both 3 and 5. "
   ]
  },
  {
   "cell_type": "code",
   "execution_count": 2,
   "id": "350071cd",
   "metadata": {},
   "outputs": [
    {
     "name": "stdout",
     "output_type": "stream",
     "text": [
      "The number is NOT divisible by both 3 and 5.\n"
     ]
    }
   ],
   "source": [
    "number=10\n",
    "if number % 3 == 0 and number % 5 == 0:\n",
    "    print(\"The number is divisible by both 3 and 5.\")\n",
    "else:\n",
    "    print(\"The number is NOT divisible by both 3 and 5.\")\n"
   ]
  },
  {
   "cell_type": "code",
   "execution_count": null,
   "id": "85839774",
   "metadata": {},
   "outputs": [],
   "source": []
  }
 ],
 "metadata": {
  "kernelspec": {
   "display_name": "Python 3",
   "language": "python",
   "name": "python3"
  },
  "language_info": {
   "codemirror_mode": {
    "name": "ipython",
    "version": 3
   },
   "file_extension": ".py",
   "mimetype": "text/x-python",
   "name": "python",
   "nbconvert_exporter": "python",
   "pygments_lexer": "ipython3",
   "version": "3.12.1"
  }
 },
 "nbformat": 4,
 "nbformat_minor": 5
}
