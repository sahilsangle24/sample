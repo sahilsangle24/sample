{
 "cells": [
  {
   "cell_type": "markdown",
   "id": "09ebcb3e",
   "metadata": {},
   "source": [
    "1. Write a program to print the factorial of a number using a for loop."
   ]
  },
  {
   "cell_type": "code",
   "execution_count": 7,
   "id": "725cda05",
   "metadata": {},
   "outputs": [
    {
     "name": "stdout",
     "output_type": "stream",
     "text": [
      "Factorial of 5 is 120\n"
     ]
    }
   ],
   "source": [
    "num = int(input(\"Enter a number: \"))\n",
    "\n",
    "factorial = 1\n",
    "for i in range(1, num + 1):\n",
    "    factorial *= i\n",
    "\n",
    "print(\"Factorial of\", num, \"is\", factorial)\n"
   ]
  },
  {
   "cell_type": "markdown",
   "id": "abebd8ab",
   "metadata": {},
   "source": [
    "2. Write a program that prints all numbers from 1 to 100 that are divisible by 7 but not a \n",
    "multiple of 5. \n"
   ]
  },
  {
   "cell_type": "code",
   "execution_count": 5,
   "id": "6d004695",
   "metadata": {},
   "outputs": [
    {
     "name": "stdout",
     "output_type": "stream",
     "text": [
      "7\n",
      "14\n",
      "21\n",
      "28\n",
      "42\n",
      "49\n",
      "56\n",
      "63\n",
      "77\n",
      "84\n",
      "91\n",
      "98\n"
     ]
    }
   ],
   "source": [
    "for num in range(1,100):\n",
    " if num%7==0 and num%5!=0 :\n",
    "  print(num)\n"
   ]
  },
  {
   "cell_type": "markdown",
   "id": "a121fa12",
   "metadata": {},
   "source": [
    "3. Write a program that takes a number and prints whether it is a palindrome or not. "
   ]
  },
  {
   "cell_type": "code",
   "execution_count": 5,
   "id": "5eaca10c",
   "metadata": {},
   "outputs": [
    {
     "name": "stdout",
     "output_type": "stream",
     "text": [
      "1221 is a palindrome\n"
     ]
    }
   ],
   "source": [
    "num=int(input(\"enter a number\"))\n",
    "reverse_num=int(str(num)[::-1])\n",
    "if num==reverse_num:\n",
    "    print( str(num) +\" \"+ \"is a palindrome\")\n",
    "else :\n",
    "    print(str(num) +\" \"+ \"is not palindrome\")"
   ]
  }
 ],
 "metadata": {
  "kernelspec": {
   "display_name": "Python 3",
   "language": "python",
   "name": "python3"
  },
  "language_info": {
   "codemirror_mode": {
    "name": "ipython",
    "version": 3
   },
   "file_extension": ".py",
   "mimetype": "text/x-python",
   "name": "python",
   "nbconvert_exporter": "python",
   "pygments_lexer": "ipython3",
   "version": "3.12.1"
  }
 },
 "nbformat": 4,
 "nbformat_minor": 5
}
